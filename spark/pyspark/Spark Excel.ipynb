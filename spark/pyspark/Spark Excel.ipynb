{
 "cells": [
  {
   "cell_type": "code",
   "execution_count": 1,
   "id": "8caae107-7219-43e7-bc44-0611d5f0439f",
   "metadata": {},
   "outputs": [],
   "source": [
    "import pandas as pd\n",
    "from pyspark.sql.functions import first\n",
    "from pyspark.sql.types import *\n",
    "from pyspark.context import SparkContext\n",
    "from pyspark.sql.session import SparkSession\n",
    "\n",
    "\n",
    "sc = SparkContext.getOrCreate();\n",
    "spark = SparkSession(sc)"
   ]
  },
  {
   "cell_type": "code",
   "execution_count": 3,
   "id": "6a23ea7d-1e7f-43c7-a1b6-8a67f3af9e69",
   "metadata": {},
   "outputs": [],
   "source": [
    "fees_df = pd.read_excel('task1.xlsx', sheet_name='fees')\n",
    "edu_fees_df = pd.read_excel('task1.xlsx', sheet_name='edu fees')\n",
    "imp_fees_df = pd.read_excel('task1.xlsx', sheet_name='implementation fees')\n",
    "\n",
    "# Select columns only needed\n",
    "columns = ['Column headers', 'sample data', 'Target column headers']\n",
    "fees_df = fees_df[columns]\n",
    "edu_fees_df = edu_fees_df[columns]\n",
    "imp_fees_df = imp_fees_df[columns]"
   ]
  },
  {
   "cell_type": "code",
   "execution_count": 4,
   "id": "1d41d486-82ed-426a-bc3b-9d58807ae320",
   "metadata": {},
   "outputs": [
    {
     "data": {
      "text/html": [
       "<div>\n",
       "<style scoped>\n",
       "    .dataframe tbody tr th:only-of-type {\n",
       "        vertical-align: middle;\n",
       "    }\n",
       "\n",
       "    .dataframe tbody tr th {\n",
       "        vertical-align: top;\n",
       "    }\n",
       "\n",
       "    .dataframe thead th {\n",
       "        text-align: right;\n",
       "    }\n",
       "</style>\n",
       "<table border=\"1\" class=\"dataframe\">\n",
       "  <thead>\n",
       "    <tr style=\"text-align: right;\">\n",
       "      <th></th>\n",
       "      <th>Column headers</th>\n",
       "      <th>sample data</th>\n",
       "      <th>Target column headers</th>\n",
       "    </tr>\n",
       "  </thead>\n",
       "  <tbody>\n",
       "    <tr>\n",
       "      <th>0</th>\n",
       "      <td>ClientName</td>\n",
       "      <td>abc</td>\n",
       "      <td>ClientName</td>\n",
       "    </tr>\n",
       "    <tr>\n",
       "      <th>1</th>\n",
       "      <td>Plan ID</td>\n",
       "      <td>123</td>\n",
       "      <td>Plan ID</td>\n",
       "    </tr>\n",
       "    <tr>\n",
       "      <th>2</th>\n",
       "      <td>FeeDescription</td>\n",
       "      <td>new plan</td>\n",
       "      <td>FeeDescription</td>\n",
       "    </tr>\n",
       "    <tr>\n",
       "      <th>3</th>\n",
       "      <td>ProjectStartDate</td>\n",
       "      <td>march 1st 2021</td>\n",
       "      <td>ProjectStartDate</td>\n",
       "    </tr>\n",
       "    <tr>\n",
       "      <th>4</th>\n",
       "      <td>ProjectEndDate</td>\n",
       "      <td>dec 5th 2021</td>\n",
       "      <td>ProjectEndDate</td>\n",
       "    </tr>\n",
       "  </tbody>\n",
       "</table>\n",
       "</div>"
      ],
      "text/plain": [
       "     Column headers     sample data Target column headers\n",
       "0        ClientName             abc            ClientName\n",
       "1           Plan ID             123               Plan ID\n",
       "2    FeeDescription        new plan        FeeDescription\n",
       "3  ProjectStartDate  march 1st 2021      ProjectStartDate\n",
       "4    ProjectEndDate    dec 5th 2021        ProjectEndDate"
      ]
     },
     "execution_count": 4,
     "metadata": {},
     "output_type": "execute_result"
    }
   ],
   "source": [
    "imp_fees_df.head()"
   ]
  },
  {
   "cell_type": "code",
   "execution_count": 5,
   "id": "28c26729-53d7-4550-9d4f-4dcd6a311d17",
   "metadata": {},
   "outputs": [],
   "source": [
    "excel_schema = StructType([ StructField(\"sample data\", StringType(), True)\n",
    "                           ,StructField(\"Target column headers\", StringType(), True)\n",
    "                           ,StructField(\"Column headers\", StringType(), True)])"
   ]
  },
  {
   "cell_type": "code",
   "execution_count": 6,
   "id": "124991e8-5b75-4049-a8eb-b32e4b1c57cd",
   "metadata": {},
   "outputs": [],
   "source": [
    "# Load Pandas DF to Spark DF\n",
    "s_fees_df = spark.createDataFrame(fees_df, excel_schema)\n",
    "s_edu_fees_df = spark.createDataFrame(edu_fees_df, excel_schema)\n",
    "s_imp_fees_df = spark.createDataFrame(imp_fees_df, excel_schema)"
   ]
  },
  {
   "cell_type": "code",
   "execution_count": 7,
   "id": "8eedbb8f-5fca-467d-9f2b-bb6b5205b1fa",
   "metadata": {},
   "outputs": [],
   "source": [
    "# GroupBy Pivot, Agg \n",
    "s_fees_df = s_fees_df.groupBy().pivot(\"sample data\").agg(first('Target column headers'))\n",
    "s_edu_fees_df = s_edu_fees_df.groupBy().pivot(\"sample data\").agg(first('Target column headers'))\n",
    "s_imp_fees_df = s_imp_fees_df.groupBy().pivot(\"sample data\").agg(first('Target column headers'))"
   ]
  },
  {
   "cell_type": "code",
   "execution_count": 61,
   "id": "3cbf1171-524e-4191-9c9d-ebf5848a2bf0",
   "metadata": {},
   "outputs": [],
   "source": [
    "# UnionByName\n",
    "final_df = s_fees_df.unionByName(s_edu_fees_df, allowMissingColumns=True).unionByName(s_imp_fees_df, allowMissingColumns=True)"
   ]
  },
  {
   "cell_type": "code",
   "execution_count": 64,
   "id": "49e15873-8606-4565-aec4-8d7c5d591bc9",
   "metadata": {},
   "outputs": [
    {
     "name": "stdout",
     "output_type": "stream",
     "text": [
      "+---------------------+----------+-----------+--------------+-------------+---------------+-------+--------------+----------------+------------+\n",
      "|AdiitionalDescription|ClientName|Description|FeeDescription|InvoiceAmount|    InvoiceDate|Plan ID|ProjectEndDate|ProjectStartDate|QuaterBilled|\n",
      "+---------------------+----------+-----------+--------------+-------------+---------------+-------+--------------+----------------+------------+\n",
      "|            plan fees|       jio|  plan fees|      new plan|          250|april 11st 2021|    567| dec 15th 2021| march 21st 2021|     Q4 2021|\n",
      "|                 null|       ceo|       null|      new plan|          200|           null|    345|          null|            null|     Q2 2020|\n",
      "|                 null|       abc|       null|      new plan|          100| april 1st 2021|    123|  dec 5th 2021|  march 1st 2021|     Q1 2021|\n",
      "+---------------------+----------+-----------+--------------+-------------+---------------+-------+--------------+----------------+------------+\n",
      "\n"
     ]
    }
   ],
   "source": [
    "final_df.show()"
   ]
  },
  {
   "cell_type": "code",
   "execution_count": null,
   "id": "2e6b9213-350b-403b-a49d-56c3ef80e935",
   "metadata": {},
   "outputs": [],
   "source": []
  }
 ],
 "metadata": {
  "kernelspec": {
   "display_name": "Python 3 (ipykernel)",
   "language": "python",
   "name": "python3"
  },
  "language_info": {
   "codemirror_mode": {
    "name": "ipython",
    "version": 3
   },
   "file_extension": ".py",
   "mimetype": "text/x-python",
   "name": "python",
   "nbconvert_exporter": "python",
   "pygments_lexer": "ipython3",
   "version": "3.10.5"
  }
 },
 "nbformat": 4,
 "nbformat_minor": 5
}
